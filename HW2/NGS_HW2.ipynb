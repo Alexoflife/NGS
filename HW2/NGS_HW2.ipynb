{
 "cells": [
  {
   "cell_type": "code",
   "execution_count": 1,
   "metadata": {},
   "outputs": [],
   "source": [
    "import pysam\n",
    "from Bio import SeqIO\n",
    "import numpy as np\n",
    "import pandas as pd\n",
    "import matplotlib.pyplot as plt\n",
    "from collections import Counter"
   ]
  },
  {
   "cell_type": "markdown",
   "metadata": {},
   "source": [
    "# Part 1"
   ]
  },
  {
   "cell_type": "markdown",
   "metadata": {},
   "source": [
    "## TEST"
   ]
  },
  {
   "cell_type": "markdown",
   "metadata": {},
   "source": [
    "**bwa index MG1655-K12.first10K.fasta**"
   ]
  },
  {
   "cell_type": "markdown",
   "metadata": {},
   "source": [
    "**bwa mem MG1655-K12.first10K.fasta test_1.fastq test_2.fastq > alignment.sam**"
   ]
  },
  {
   "cell_type": "markdown",
   "metadata": {},
   "source": [
    "**samtools view -S -b alignment.sam > alignment.bam**"
   ]
  },
  {
   "cell_type": "markdown",
   "metadata": {},
   "source": [
    "56320 + 0 mapped (100.00% : N/A)\n"
   ]
  },
  {
   "cell_type": "markdown",
   "metadata": {},
   "source": [
    "## Dataset 1"
   ]
  },
  {
   "cell_type": "markdown",
   "metadata": {},
   "source": [
    "**bwa index ref.fasta**"
   ]
  },
  {
   "cell_type": "markdown",
   "metadata": {},
   "source": [
    "**bwa mem ref.fasta frag.R1.fastq frag.R2.fastq > alignment.sam**"
   ]
  },
  {
   "cell_type": "markdown",
   "metadata": {},
   "source": [
    "**samtools flagstat alignment.sam**"
   ]
  },
  {
   "cell_type": "markdown",
   "metadata": {},
   "source": [
    "3424657 + 0 mapped (99.77% : N/A)"
   ]
  },
  {
   "cell_type": "markdown",
   "metadata": {},
   "source": [
    "**samtools view -S -b alignment.sam > alignment.bam**"
   ]
  },
  {
   "cell_type": "markdown",
   "metadata": {},
   "source": [
    "**samtools sort alignment.bam -o alignment_sorted.bam**"
   ]
  },
  {
   "cell_type": "markdown",
   "metadata": {},
   "source": [
    "**samtools index alignment_sorted.bam**"
   ]
  },
  {
   "cell_type": "markdown",
   "metadata": {},
   "source": [
    "**samtools view -f66 alignment_sorted.bam  | cut -f9 | awk '{print sqrt($0^2)}' > insert-sizes.txt**"
   ]
  },
  {
   "cell_type": "code",
   "execution_count": 13,
   "metadata": {},
   "outputs": [],
   "source": [
    "Ref_path = '/media/data/NGS_2/dataset_1/ref.fasta'\n",
    "#Ref_path = '/media/data/NGS_2/1_var/MG1655-K12.fasta'"
   ]
  },
  {
   "cell_type": "code",
   "execution_count": 14,
   "metadata": {},
   "outputs": [],
   "source": [
    "bam_path = '/media/data/NGS_2/dataset_1/alignment_sorted.bam' \n",
    "#bam_path = '/media/data/NGS_2/1_var/alignment_sorted.bam' "
   ]
  },
  {
   "cell_type": "code",
   "execution_count": 143,
   "metadata": {},
   "outputs": [],
   "source": [
    "inserts_path = '/media/data/NGS_2/dataset_1/insert-sizes.txt'\n",
    "#inserts_path = '/media/data/NGS_2/1_var/insert-sizes.txt'"
   ]
  },
  {
   "cell_type": "code",
   "execution_count": 80,
   "metadata": {},
   "outputs": [],
   "source": [
    "samfile = pysam.AlignmentFile(bam_path, 'rb')\n",
    "ref_seq = next(SeqIO.parse(Ref_path, 'fasta')).seq"
   ]
  },
  {
   "cell_type": "code",
   "execution_count": 105,
   "metadata": {},
   "outputs": [],
   "source": [
    "matrix = pd.DataFrame(0, index=['A', 'C', 'G', 'T'], columns=['A', 'C', 'G', 'T'])\n",
    "coverage = [0 for i in range(len(ref_seq))]"
   ]
  },
  {
   "cell_type": "code",
   "execution_count": 117,
   "metadata": {},
   "outputs": [],
   "source": [
    "for pileupcolumn in samfile.pileup('Contig184'):\n",
    "    \n",
    "    ref_base = ref_seq[pileupcolumn.reference_pos]\n",
    "    coverage[pileupcolumn.reference_pos] = pileupcolumn.get_num_aligned()\n",
    "    \n",
    "    for read_base in pileupcolumn.get_query_sequences():\n",
    "        if (read_base.upper() in matrix.index) and (ref_base != read_base.upper()):\n",
    "            matrix[read_base.upper()][ref_base] += 1"
   ]
  },
  {
   "cell_type": "code",
   "execution_count": 130,
   "metadata": {},
   "outputs": [
    {
     "data": {
      "text/plain": [
       "<function matplotlib.pyplot.show(close=None, block=None)>"
      ]
     },
     "execution_count": 130,
     "metadata": {},
     "output_type": "execute_result"
    },
    {
     "data": {
      "image/png": "[encoded data removed]",
      "text/plain": [
       "<Figure size 1080x720 with 1 Axes>"
      ]
     },
     "metadata": {
      "needs_background": "light"
     },
     "output_type": "display_data"
    }
   ],
   "source": [
    "coverage_1000 = [np.mean(coverage[i:i+1000]) for i in range(0, len(coverage), 1000)]\n",
    "\n",
    "plt.figure(figsize=(15, 10))\n",
    "plt.bar([i for i in range(len(coverage_1000))], coverage_1000)\n",
    "plt.title('Среднее покрытие')\n",
    "plt.show"
   ]
  },
  {
   "cell_type": "code",
   "execution_count": 132,
   "metadata": {},
   "outputs": [
    {
     "name": "stdout",
     "output_type": "stream",
     "text": [
      "Среднее покрытие 115.05082889556294\n",
      "Доля покрытой области генома 1.0\n"
     ]
    }
   ],
   "source": [
    "print('Среднее покрытие ' + str(np.mean(coverage)))\n",
    "print('Доля покрытой области генома ' + str(np.count_nonzero(coverage)/len(coverage)))"
   ]
  },
  {
   "cell_type": "code",
   "execution_count": 17,
   "metadata": {},
   "outputs": [],
   "source": [
    "inserts = []\n",
    "with open(inserts_path, 'r') as input_file:\n",
    "    for line in input_file:\n",
    "        if line[0].isdigit():\n",
    "            inserts.append(int(line[:line.find('\\n')]))\n",
    "            \n",
    "inserts = np.asarray(inserts)"
   ]
  },
  {
   "cell_type": "code",
   "execution_count": 18,
   "metadata": {},
   "outputs": [],
   "source": [
    "insert_count = Counter(inserts)\n",
    "inserts_good = []\n",
    "for ins_size in inserts:\n",
    "    if insert_count[ins_size] > 10:\n",
    "        inserts_good.append(ins_size)"
   ]
  },
  {
   "cell_type": "code",
   "execution_count": 142,
   "metadata": {},
   "outputs": [
    {
     "name": "stdout",
     "output_type": "stream",
     "text": [
      "Средний размер вставки 269.4202406507043\n",
      "Стандартное отклонение 63.99606692840991\n",
      "Интервал (162.0, 400.0)\n"
     ]
    }
   ],
   "source": [
    "mean = np.mean(inserts_good)\n",
    "std = np.std(inserts_good)\n",
    "quantile = np.quantile(inserts_good, [0.01, 0.96])\n",
    "\n",
    "print('Средний размер вставки ' + str(mean))\n",
    "print('Стандартное отклонение ' + str(std))\n",
    "print('Интервал ' + str((quantile[0], quantile[1])))"
   ]
  },
  {
   "cell_type": "code",
   "execution_count": 131,
   "metadata": {
    "scrolled": false
   },
   "outputs": [
    {
     "data": {
      "text/plain": [
       "<function matplotlib.pyplot.show(close=None, block=None)>"
      ]
     },
     "execution_count": 131,
     "metadata": {},
     "output_type": "execute_result"
    },
    {
     "data": {
      "image/png": "[encoded data removed]",
      "text/plain": [
       "<Figure size 1080x720 with 1 Axes>"
      ]
     },
     "metadata": {
      "needs_background": "light"
     },
     "output_type": "display_data"
    }
   ],
   "source": [
    "plt.figure(figsize=(15, 10))\n",
    "plt.hist(inserts, range(100, 500))\n",
    "plt.title('Размер вставки')\n",
    "plt.show"
   ]
  },
  {
   "cell_type": "markdown",
   "metadata": {},
   "source": [
    "### Матрица замен"
   ]
  },
  {
   "cell_type": "code",
   "execution_count": 136,
   "metadata": {},
   "outputs": [
    {
     "data": {
      "text/html": [
       "<div>\n",
       "<style scoped>\n",
       "    .dataframe tbody tr th:only-of-type {\n",
       "        vertical-align: middle;\n",
       "    }\n",
       "\n",
       "    .dataframe tbody tr th {\n",
       "        vertical-align: top;\n",
       "    }\n",
       "\n",
       "    .dataframe thead th {\n",
       "        text-align: right;\n",
       "    }\n",
       "</style>\n",
       "<table border=\"1\" class=\"dataframe\">\n",
       "  <thead>\n",
       "    <tr style=\"text-align: right;\">\n",
       "      <th></th>\n",
       "      <th>A</th>\n",
       "      <th>C</th>\n",
       "      <th>G</th>\n",
       "      <th>T</th>\n",
       "    </tr>\n",
       "  </thead>\n",
       "  <tbody>\n",
       "    <tr>\n",
       "      <th>A</th>\n",
       "      <td>0</td>\n",
       "      <td>934672</td>\n",
       "      <td>504978</td>\n",
       "      <td>67987</td>\n",
       "    </tr>\n",
       "    <tr>\n",
       "      <th>C</th>\n",
       "      <td>397496</td>\n",
       "      <td>0</td>\n",
       "      <td>680971</td>\n",
       "      <td>149111</td>\n",
       "    </tr>\n",
       "    <tr>\n",
       "      <th>G</th>\n",
       "      <td>155718</td>\n",
       "      <td>715836</td>\n",
       "      <td>0</td>\n",
       "      <td>350430</td>\n",
       "    </tr>\n",
       "    <tr>\n",
       "      <th>T</th>\n",
       "      <td>77555</td>\n",
       "      <td>545981</td>\n",
       "      <td>930328</td>\n",
       "      <td>0</td>\n",
       "    </tr>\n",
       "  </tbody>\n",
       "</table>\n",
       "</div>"
      ],
      "text/plain": [
       "        A       C       G       T\n",
       "A       0  934672  504978   67987\n",
       "C  397496       0  680971  149111\n",
       "G  155718  715836       0  350430\n",
       "T   77555  545981  930328       0"
      ]
     },
     "execution_count": 136,
     "metadata": {},
     "output_type": "execute_result"
    }
   ],
   "source": [
    "matrix"
   ]
  },
  {
   "cell_type": "code",
   "execution_count": 139,
   "metadata": {},
   "outputs": [
    {
     "name": "stdout",
     "output_type": "stream",
     "text": [
      "Средний процент ошибок 1.3250687242006918 %\n"
     ]
    }
   ],
   "source": [
    "print('Средний процент ошибок ' + str(matrix.values.sum()*100/sum(coverage)) + ' %') "
   ]
  },
  {
   "cell_type": "markdown",
   "metadata": {},
   "source": [
    "## Dataset 2"
   ]
  },
  {
   "cell_type": "code",
   "execution_count": 144,
   "metadata": {},
   "outputs": [],
   "source": [
    "Ref_path = '/media/data/NGS_2/dataset_2/ref.fasta'"
   ]
  },
  {
   "cell_type": "code",
   "execution_count": 145,
   "metadata": {},
   "outputs": [],
   "source": [
    "bam_path = '/media/data/NGS_2/dataset_2/alignment_sorted.bam' "
   ]
  },
  {
   "cell_type": "code",
   "execution_count": 146,
   "metadata": {},
   "outputs": [],
   "source": [
    "inserts_path = '/media/data/NGS_2/dataset_2/insert-sizes.txt'"
   ]
  },
  {
   "cell_type": "code",
   "execution_count": 147,
   "metadata": {},
   "outputs": [],
   "source": [
    "samfile = pysam.AlignmentFile(bam_path, 'rb')\n",
    "ref_seq = next(SeqIO.parse(Ref_path, 'fasta')).seq"
   ]
  },
  {
   "cell_type": "code",
   "execution_count": 148,
   "metadata": {},
   "outputs": [],
   "source": [
    "matrix = pd.DataFrame(0, index=['A', 'C', 'G', 'T'], columns=['A', 'C', 'G', 'T'])\n",
    "coverage = [0 for i in range(len(ref_seq))]"
   ]
  },
  {
   "cell_type": "code",
   "execution_count": 150,
   "metadata": {},
   "outputs": [],
   "source": [
    "for pileupcolumn in samfile.pileup('Contig184'):\n",
    "    \n",
    "    ref_base = ref_seq[pileupcolumn.reference_pos]\n",
    "    coverage[pileupcolumn.reference_pos] = pileupcolumn.get_num_aligned()\n",
    "    \n",
    "    for read_base in pileupcolumn.get_query_sequences():\n",
    "        if (read_base.upper() in matrix.index) and (ref_base != read_base.upper()):\n",
    "            matrix[read_base.upper()][ref_base] += 1"
   ]
  },
  {
   "cell_type": "code",
   "execution_count": 151,
   "metadata": {
    "scrolled": false
   },
   "outputs": [
    {
     "data": {
      "text/plain": [
       "<function matplotlib.pyplot.show(close=None, block=None)>"
      ]
     },
     "execution_count": 151,
     "metadata": {},
     "output_type": "execute_result"
    },
    {
     "data": {
      "image/png": "[encoded data removed]",
      "text/plain": [
       "<Figure size 1080x720 with 1 Axes>"
      ]
     },
     "metadata": {
      "needs_background": "light"
     },
     "output_type": "display_data"
    }
   ],
   "source": [
    "coverage_1000 = [np.mean(coverage[i:i+1000]) for i in range(0, len(coverage), 1000)]\n",
    "\n",
    "plt.figure(figsize=(15, 10))\n",
    "plt.bar([i for i in range(len(coverage_1000))], coverage_1000)\n",
    "plt.title('Среднее покрытие')\n",
    "plt.show"
   ]
  },
  {
   "cell_type": "code",
   "execution_count": 152,
   "metadata": {},
   "outputs": [
    {
     "name": "stdout",
     "output_type": "stream",
     "text": [
      "Среднее покрытие 110.34473972410996\n",
      "Доля покрытой области генома 0.8313431485721541\n"
     ]
    }
   ],
   "source": [
    "print('Среднее покрытие ' + str(np.mean(coverage)))\n",
    "print('Доля покрытой области генома ' + str(np.count_nonzero(coverage)/len(coverage)))"
   ]
  },
  {
   "cell_type": "code",
   "execution_count": 153,
   "metadata": {},
   "outputs": [],
   "source": [
    "inserts = []\n",
    "with open(inserts_path, 'r') as input_file:\n",
    "    for line in input_file:\n",
    "        if line[0].isdigit():\n",
    "            inserts.append(int(line[:line.find('\\n')]))\n",
    "            \n",
    "inserts = np.asarray(inserts)"
   ]
  },
  {
   "cell_type": "code",
   "execution_count": 154,
   "metadata": {},
   "outputs": [],
   "source": [
    "insert_count = Counter(inserts)\n",
    "inserts_good = []\n",
    "for ins_size in inserts:\n",
    "    if insert_count[ins_size] > 10:\n",
    "        inserts_good.append(ins_size)"
   ]
  },
  {
   "cell_type": "code",
   "execution_count": 155,
   "metadata": {},
   "outputs": [
    {
     "name": "stdout",
     "output_type": "stream",
     "text": [
      "Средний размер вставки 7606.296733256685\n",
      "Стандартное отклонение 1072.3667411946485\n",
      "Интервал (5991.0, 9636.0)\n"
     ]
    }
   ],
   "source": [
    "mean = np.mean(inserts_good)\n",
    "std = np.std(inserts_good)\n",
    "quantile = np.quantile(inserts_good, [0.01, 0.96])\n",
    "\n",
    "print('Средний размер вставки ' + str(mean))\n",
    "print('Стандартное отклонение ' + str(std))\n",
    "print('Интервал ' + str((quantile[0], quantile[1])))"
   ]
  },
  {
   "cell_type": "code",
   "execution_count": 157,
   "metadata": {
    "scrolled": false
   },
   "outputs": [
    {
     "data": {
      "text/plain": [
       "<function matplotlib.pyplot.show(close=None, block=None)>"
      ]
     },
     "execution_count": 157,
     "metadata": {},
     "output_type": "execute_result"
    },
    {
     "data": {
      "image/png": "[encoded data removed]",
      "text/plain": [
       "<Figure size 1080x720 with 1 Axes>"
      ]
     },
     "metadata": {
      "needs_background": "light"
     },
     "output_type": "display_data"
    }
   ],
   "source": [
    "plt.figure(figsize=(15, 10))\n",
    "plt.hist(inserts, range(5000, 11000))\n",
    "plt.title('Размер вставки')\n",
    "plt.show"
   ]
  },
  {
   "cell_type": "markdown",
   "metadata": {},
   "source": [
    "### Матрица замен"
   ]
  },
  {
   "cell_type": "code",
   "execution_count": 158,
   "metadata": {},
   "outputs": [
    {
     "data": {
      "text/html": [
       "<div>\n",
       "<style scoped>\n",
       "    .dataframe tbody tr th:only-of-type {\n",
       "        vertical-align: middle;\n",
       "    }\n",
       "\n",
       "    .dataframe tbody tr th {\n",
       "        vertical-align: top;\n",
       "    }\n",
       "\n",
       "    .dataframe thead th {\n",
       "        text-align: right;\n",
       "    }\n",
       "</style>\n",
       "<table border=\"1\" class=\"dataframe\">\n",
       "  <thead>\n",
       "    <tr style=\"text-align: right;\">\n",
       "      <th></th>\n",
       "      <th>A</th>\n",
       "      <th>C</th>\n",
       "      <th>G</th>\n",
       "      <th>T</th>\n",
       "    </tr>\n",
       "  </thead>\n",
       "  <tbody>\n",
       "    <tr>\n",
       "      <th>A</th>\n",
       "      <td>0</td>\n",
       "      <td>780645</td>\n",
       "      <td>460730</td>\n",
       "      <td>39437</td>\n",
       "    </tr>\n",
       "    <tr>\n",
       "      <th>C</th>\n",
       "      <td>129411</td>\n",
       "      <td>0</td>\n",
       "      <td>435701</td>\n",
       "      <td>67006</td>\n",
       "    </tr>\n",
       "    <tr>\n",
       "      <th>G</th>\n",
       "      <td>66385</td>\n",
       "      <td>429949</td>\n",
       "      <td>0</td>\n",
       "      <td>129894</td>\n",
       "    </tr>\n",
       "    <tr>\n",
       "      <th>T</th>\n",
       "      <td>39502</td>\n",
       "      <td>452411</td>\n",
       "      <td>792525</td>\n",
       "      <td>0</td>\n",
       "    </tr>\n",
       "  </tbody>\n",
       "</table>\n",
       "</div>"
      ],
      "text/plain": [
       "        A       C       G       T\n",
       "A       0  780645  460730   39437\n",
       "C  129411       0  435701   67006\n",
       "G   66385  429949       0  129894\n",
       "T   39502  452411  792525       0"
      ]
     },
     "execution_count": 158,
     "metadata": {},
     "output_type": "execute_result"
    }
   ],
   "source": [
    "matrix"
   ]
  },
  {
   "cell_type": "code",
   "execution_count": 159,
   "metadata": {},
   "outputs": [
    {
     "name": "stdout",
     "output_type": "stream",
     "text": [
      "Средний процент ошибок 0.9585464069249199 %\n"
     ]
    }
   ],
   "source": [
    "print('Средний процент ошибок ' + str(matrix.values.sum()*100/sum(coverage)) + ' %') "
   ]
  },
  {
   "cell_type": "markdown",
   "metadata": {},
   "source": [
    "# Part 2"
   ]
  },
  {
   "cell_type": "markdown",
   "metadata": {},
   "source": [
    "## B22-730"
   ]
  },
  {
   "cell_type": "code",
   "execution_count": 2,
   "metadata": {},
   "outputs": [],
   "source": [
    "Ref_path = '/media/data/NGS_2/part_2/DH10B-K12.fasta'"
   ]
  },
  {
   "cell_type": "code",
   "execution_count": 3,
   "metadata": {},
   "outputs": [],
   "source": [
    "bam_path = '/media/data/NGS_2/part_2/alignment_1_sorted.bam'"
   ]
  },
  {
   "cell_type": "code",
   "execution_count": 4,
   "metadata": {},
   "outputs": [],
   "source": [
    "samfile = pysam.AlignmentFile(bam_path, 'rb')\n",
    "ref_seq = next(SeqIO.parse(Ref_path, 'fasta')).seq"
   ]
  },
  {
   "cell_type": "code",
   "execution_count": 81,
   "metadata": {},
   "outputs": [],
   "source": [
    "matrix = pd.DataFrame(0, index=['A', 'C', 'G', 'T', '-'], columns=['A', 'C', 'G', 'T', '-'])\n",
    "q_matrix = pd.DataFrame(0, index=['A', 'C', 'G', 'T', '-'], columns=['A', 'C', 'G', 'T', '-'])\n",
    "coverage = [0 for i in range(len(ref_seq))]\n",
    "indel_dict = Counter()\n",
    "indel_homop = 0"
   ]
  },
  {
   "cell_type": "code",
   "execution_count": 83,
   "metadata": {},
   "outputs": [],
   "source": [
    "for pileupcolumn in samfile.pileup('gi|170079663|ref|NC_010473.1|', fastafile=pysam.FastaFile(Ref_path)):\n",
    "    ref_base = ref_seq[pileupcolumn.reference_pos]\n",
    "    coverage[pileupcolumn.reference_pos] = pileupcolumn.get_num_aligned()\n",
    "    \n",
    "    for read_base, qual, pos in zip(pileupcolumn.get_query_sequences(add_indels=True), pileupcolumn.get_query_qualities(), pileupcolumn.get_query_positions()):\n",
    "        read_base_0 = read_base[0]\n",
    "        if read_base_0.upper() != ref_base and read_base_0 == '*':\n",
    "            q_matrix['-'][ref_base] += qual\n",
    "        elif read_base_0.upper() != ref_base and read_base_0 != '*':\n",
    "            matrix[ref_base][read_base_0.upper()] += 1\n",
    "            q_matrix[ref_base][read_base_0.upper()] += qual\n",
    "        if len(read_base) > 1:\n",
    "            for i in range(2, len(read_base)):\n",
    "                if read_base[i].isalpha():\n",
    "                    n_indel = int(read_base[2:i])\n",
    "                    break\n",
    "            indel_dict[n_indel] += 1\n",
    "            if n_indel > 1 and read_base[i] == read_base[i+1] or ref_seq[pos] == ref_seq[pos-1] or ref_seq[pos] == ref_seq[pos+1]:\n",
    "                indel_homop += 1\n",
    "            for ind_base in read_base[i:]:\n",
    "                if read_base[1] == '-':\n",
    "                    matrix['-'][ind_base.upper()] += 1\n",
    "                else:\n",
    "                    matrix[ind_base.upper()]['-'] += 1"
   ]
  },
  {
   "cell_type": "code",
   "execution_count": 88,
   "metadata": {},
   "outputs": [
    {
     "data": {
      "text/plain": [
       "<function matplotlib.pyplot.show(close=None, block=None)>"
      ]
     },
     "execution_count": 88,
     "metadata": {},
     "output_type": "execute_result"
    },
    {
     "data": {
      "image/png": "[encoded data removed]",
      "text/plain": [
       "<Figure size 1080x720 with 1 Axes>"
      ]
     },
     "metadata": {
      "needs_background": "light"
     },
     "output_type": "display_data"
    }
   ],
   "source": [
    "coverage_1000 = [np.mean(coverage[i:i+1000]) for i in range(0, len(coverage), 1000)]\n",
    "\n",
    "plt.figure(figsize=(15, 10))\n",
    "plt.bar([i for i in range(len(coverage_1000))], coverage_1000)\n",
    "plt.title('Среднее покрытие')\n",
    "plt.show"
   ]
  },
  {
   "cell_type": "code",
   "execution_count": 89,
   "metadata": {
    "scrolled": true
   },
   "outputs": [
    {
     "name": "stdout",
     "output_type": "stream",
     "text": [
      "Среднее покрытие 32.99516040610848\n",
      "Доля покрытой области генома 0.9998574518841425\n"
     ]
    }
   ],
   "source": [
    "print('Среднее покрытие ' + str(np.mean(coverage)))\n",
    "print('Доля покрытой области генома ' + str(np.count_nonzero(coverage)/len(coverage)))"
   ]
  },
  {
   "cell_type": "code",
   "execution_count": 111,
   "metadata": {},
   "outputs": [
    {
     "data": {
      "text/html": [
       "<div>\n",
       "<style scoped>\n",
       "    .dataframe tbody tr th:only-of-type {\n",
       "        vertical-align: middle;\n",
       "    }\n",
       "\n",
       "    .dataframe tbody tr th {\n",
       "        vertical-align: top;\n",
       "    }\n",
       "\n",
       "    .dataframe thead th {\n",
       "        text-align: right;\n",
       "    }\n",
       "</style>\n",
       "<table border=\"1\" class=\"dataframe\">\n",
       "  <thead>\n",
       "    <tr style=\"text-align: right;\">\n",
       "      <th></th>\n",
       "      <th>Длина индела\\\\Количество инделов</th>\n",
       "    </tr>\n",
       "  </thead>\n",
       "  <tbody>\n",
       "    <tr>\n",
       "      <th>1</th>\n",
       "      <td>673757</td>\n",
       "    </tr>\n",
       "    <tr>\n",
       "      <th>2</th>\n",
       "      <td>19040</td>\n",
       "    </tr>\n",
       "    <tr>\n",
       "      <th>4</th>\n",
       "      <td>484</td>\n",
       "    </tr>\n",
       "    <tr>\n",
       "      <th>3</th>\n",
       "      <td>1849</td>\n",
       "    </tr>\n",
       "    <tr>\n",
       "      <th>9</th>\n",
       "      <td>48</td>\n",
       "    </tr>\n",
       "    <tr>\n",
       "      <th>7</th>\n",
       "      <td>95</td>\n",
       "    </tr>\n",
       "    <tr>\n",
       "      <th>10</th>\n",
       "      <td>50</td>\n",
       "    </tr>\n",
       "    <tr>\n",
       "      <th>5</th>\n",
       "      <td>215</td>\n",
       "    </tr>\n",
       "    <tr>\n",
       "      <th>12</th>\n",
       "      <td>20</td>\n",
       "    </tr>\n",
       "    <tr>\n",
       "      <th>11</th>\n",
       "      <td>31</td>\n",
       "    </tr>\n",
       "    <tr>\n",
       "      <th>6</th>\n",
       "      <td>145</td>\n",
       "    </tr>\n",
       "    <tr>\n",
       "      <th>14</th>\n",
       "      <td>22</td>\n",
       "    </tr>\n",
       "    <tr>\n",
       "      <th>8</th>\n",
       "      <td>64</td>\n",
       "    </tr>\n",
       "    <tr>\n",
       "      <th>16</th>\n",
       "      <td>15</td>\n",
       "    </tr>\n",
       "    <tr>\n",
       "      <th>19</th>\n",
       "      <td>4</td>\n",
       "    </tr>\n",
       "    <tr>\n",
       "      <th>18</th>\n",
       "      <td>6</td>\n",
       "    </tr>\n",
       "    <tr>\n",
       "      <th>17</th>\n",
       "      <td>17</td>\n",
       "    </tr>\n",
       "    <tr>\n",
       "      <th>13</th>\n",
       "      <td>21</td>\n",
       "    </tr>\n",
       "    <tr>\n",
       "      <th>15</th>\n",
       "      <td>13</td>\n",
       "    </tr>\n",
       "    <tr>\n",
       "      <th>24</th>\n",
       "      <td>1</td>\n",
       "    </tr>\n",
       "  </tbody>\n",
       "</table>\n",
       "</div>"
      ],
      "text/plain": [
       "    Длина индела\\\\Количество инделов\n",
       "1                             673757\n",
       "2                              19040\n",
       "4                                484\n",
       "3                               1849\n",
       "9                                 48\n",
       "7                                 95\n",
       "10                                50\n",
       "5                                215\n",
       "12                                20\n",
       "11                                31\n",
       "6                                145\n",
       "14                                22\n",
       "8                                 64\n",
       "16                                15\n",
       "19                                 4\n",
       "18                                 6\n",
       "17                                17\n",
       "13                                21\n",
       "15                                13\n",
       "24                                 1"
      ]
     },
     "execution_count": 111,
     "metadata": {},
     "output_type": "execute_result"
    }
   ],
   "source": [
    "pd.DataFrame(indel_dict.values(), columns=['Длина индела\\\\\\Количество инделов'], index=(indel_dict.keys()))"
   ]
  },
  {
   "cell_type": "code",
   "execution_count": 113,
   "metadata": {},
   "outputs": [
    {
     "name": "stdout",
     "output_type": "stream",
     "text": [
      "Количество инделов рядом с гомополимерами  45.885238763782574  %\n"
     ]
    }
   ],
   "source": [
    "print('Количество инделов рядом с гомополимерами ', str(indel_homop*100/sum(indel_dict.values())), ' %' )"
   ]
  },
  {
   "cell_type": "markdown",
   "metadata": {},
   "source": [
    "### Матрица замен"
   ]
  },
  {
   "cell_type": "code",
   "execution_count": 84,
   "metadata": {},
   "outputs": [
    {
     "data": {
      "text/html": [
       "<div>\n",
       "<style scoped>\n",
       "    .dataframe tbody tr th:only-of-type {\n",
       "        vertical-align: middle;\n",
       "    }\n",
       "\n",
       "    .dataframe tbody tr th {\n",
       "        vertical-align: top;\n",
       "    }\n",
       "\n",
       "    .dataframe thead th {\n",
       "        text-align: right;\n",
       "    }\n",
       "</style>\n",
       "<table border=\"1\" class=\"dataframe\">\n",
       "  <thead>\n",
       "    <tr style=\"text-align: right;\">\n",
       "      <th></th>\n",
       "      <th>A</th>\n",
       "      <th>C</th>\n",
       "      <th>G</th>\n",
       "      <th>T</th>\n",
       "      <th>-</th>\n",
       "    </tr>\n",
       "  </thead>\n",
       "  <tbody>\n",
       "    <tr>\n",
       "      <th>A</th>\n",
       "      <td>0</td>\n",
       "      <td>4519</td>\n",
       "      <td>11148</td>\n",
       "      <td>4856</td>\n",
       "      <td>98070</td>\n",
       "    </tr>\n",
       "    <tr>\n",
       "      <th>C</th>\n",
       "      <td>4266</td>\n",
       "      <td>0</td>\n",
       "      <td>3253</td>\n",
       "      <td>18604</td>\n",
       "      <td>57062</td>\n",
       "    </tr>\n",
       "    <tr>\n",
       "      <th>G</th>\n",
       "      <td>18411</td>\n",
       "      <td>3253</td>\n",
       "      <td>0</td>\n",
       "      <td>4364</td>\n",
       "      <td>57253</td>\n",
       "    </tr>\n",
       "    <tr>\n",
       "      <th>T</th>\n",
       "      <td>4943</td>\n",
       "      <td>11062</td>\n",
       "      <td>4580</td>\n",
       "      <td>0</td>\n",
       "      <td>99716</td>\n",
       "    </tr>\n",
       "    <tr>\n",
       "      <th>-</th>\n",
       "      <td>146296</td>\n",
       "      <td>58318</td>\n",
       "      <td>59072</td>\n",
       "      <td>149681</td>\n",
       "      <td>0</td>\n",
       "    </tr>\n",
       "  </tbody>\n",
       "</table>\n",
       "</div>"
      ],
      "text/plain": [
       "        A      C      G       T      -\n",
       "A       0   4519  11148    4856  98070\n",
       "C    4266      0   3253   18604  57062\n",
       "G   18411   3253      0    4364  57253\n",
       "T    4943  11062   4580       0  99716\n",
       "-  146296  58318  59072  149681      0"
      ]
     },
     "execution_count": 84,
     "metadata": {},
     "output_type": "execute_result"
    }
   ],
   "source": [
    "matrix"
   ]
  },
  {
   "cell_type": "code",
   "execution_count": 85,
   "metadata": {},
   "outputs": [
    {
     "name": "stdout",
     "output_type": "stream",
     "text": [
      "Средний процент ошибок 0.2673440838207557 %\n"
     ]
    }
   ],
   "source": [
    "print('Средний процент ошибок ' + str(matrix.iloc[4:,:].values.sum()*100/sum(coverage)) + ' %') "
   ]
  },
  {
   "cell_type": "markdown",
   "metadata": {},
   "source": [
    "### Статистика качества нуклеотидов"
   ]
  },
  {
   "cell_type": "code",
   "execution_count": 87,
   "metadata": {
    "scrolled": true
   },
   "outputs": [
    {
     "data": {
      "text/html": [
       "<div>\n",
       "<style scoped>\n",
       "    .dataframe tbody tr th:only-of-type {\n",
       "        vertical-align: middle;\n",
       "    }\n",
       "\n",
       "    .dataframe tbody tr th {\n",
       "        vertical-align: top;\n",
       "    }\n",
       "\n",
       "    .dataframe thead th {\n",
       "        text-align: right;\n",
       "    }\n",
       "</style>\n",
       "<table border=\"1\" class=\"dataframe\">\n",
       "  <thead>\n",
       "    <tr style=\"text-align: right;\">\n",
       "      <th></th>\n",
       "      <th>A</th>\n",
       "      <th>C</th>\n",
       "      <th>G</th>\n",
       "      <th>T</th>\n",
       "      <th>-</th>\n",
       "    </tr>\n",
       "  </thead>\n",
       "  <tbody>\n",
       "    <tr>\n",
       "      <th>A</th>\n",
       "      <td>NaN</td>\n",
       "      <td>18.695065</td>\n",
       "      <td>24.051220</td>\n",
       "      <td>18.102348</td>\n",
       "      <td>2.694912</td>\n",
       "    </tr>\n",
       "    <tr>\n",
       "      <th>C</th>\n",
       "      <td>18.790436</td>\n",
       "      <td>NaN</td>\n",
       "      <td>17.963726</td>\n",
       "      <td>26.090303</td>\n",
       "      <td>4.558217</td>\n",
       "    </tr>\n",
       "    <tr>\n",
       "      <th>G</th>\n",
       "      <td>26.173429</td>\n",
       "      <td>18.050108</td>\n",
       "      <td>NaN</td>\n",
       "      <td>18.719982</td>\n",
       "      <td>4.586223</td>\n",
       "    </tr>\n",
       "    <tr>\n",
       "      <th>T</th>\n",
       "      <td>18.172365</td>\n",
       "      <td>23.937534</td>\n",
       "      <td>18.536900</td>\n",
       "      <td>NaN</td>\n",
       "      <td>2.674987</td>\n",
       "    </tr>\n",
       "    <tr>\n",
       "      <th>-</th>\n",
       "      <td>0.000000</td>\n",
       "      <td>0.000000</td>\n",
       "      <td>0.000000</td>\n",
       "      <td>0.000000</td>\n",
       "      <td>NaN</td>\n",
       "    </tr>\n",
       "  </tbody>\n",
       "</table>\n",
       "</div>"
      ],
      "text/plain": [
       "           A          C          G          T         -\n",
       "A        NaN  18.695065  24.051220  18.102348  2.694912\n",
       "C  18.790436        NaN  17.963726  26.090303  4.558217\n",
       "G  26.173429  18.050108        NaN  18.719982  4.586223\n",
       "T  18.172365  23.937534  18.536900        NaN  2.674987\n",
       "-   0.000000   0.000000   0.000000   0.000000       NaN"
      ]
     },
     "execution_count": 87,
     "metadata": {},
     "output_type": "execute_result"
    }
   ],
   "source": [
    "q_matrix/matrix"
   ]
  },
  {
   "cell_type": "markdown",
   "metadata": {},
   "source": [
    "## C24-698"
   ]
  },
  {
   "cell_type": "code",
   "execution_count": 114,
   "metadata": {},
   "outputs": [],
   "source": [
    "Ref_path = '/media/data/NGS_2/part_2/DH10B-K12.fasta'"
   ]
  },
  {
   "cell_type": "code",
   "execution_count": 115,
   "metadata": {},
   "outputs": [],
   "source": [
    "bam_path = '/media/data/NGS_2/part_2/alignment_2_sorted.bam'"
   ]
  },
  {
   "cell_type": "code",
   "execution_count": 116,
   "metadata": {},
   "outputs": [],
   "source": [
    "samfile = pysam.AlignmentFile(bam_path, 'rb')\n",
    "ref_seq = next(SeqIO.parse(Ref_path, 'fasta')).seq"
   ]
  },
  {
   "cell_type": "code",
   "execution_count": 117,
   "metadata": {},
   "outputs": [],
   "source": [
    "matrix = pd.DataFrame(0, index=['A', 'C', 'G', 'T', '-'], columns=['A', 'C', 'G', 'T', '-'])\n",
    "q_matrix = pd.DataFrame(0, index=['A', 'C', 'G', 'T', '-'], columns=['A', 'C', 'G', 'T', '-'])\n",
    "coverage = [0 for i in range(len(ref_seq))]\n",
    "indel_dict = Counter()\n",
    "indel_homop = 0"
   ]
  },
  {
   "cell_type": "code",
   "execution_count": 118,
   "metadata": {},
   "outputs": [],
   "source": [
    "for pileupcolumn in samfile.pileup('gi|170079663|ref|NC_010473.1|', fastafile=pysam.FastaFile(Ref_path)):\n",
    "    ref_base = ref_seq[pileupcolumn.reference_pos]\n",
    "    coverage[pileupcolumn.reference_pos] = pileupcolumn.get_num_aligned()\n",
    "    \n",
    "    for read_base, qual, pos in zip(pileupcolumn.get_query_sequences(add_indels=True), pileupcolumn.get_query_qualities(), pileupcolumn.get_query_positions()):\n",
    "        read_base_0 = read_base[0]\n",
    "        if read_base_0.upper() != ref_base and read_base_0 == '*':\n",
    "            q_matrix['-'][ref_base] += qual\n",
    "        elif read_base_0.upper() != ref_base and read_base_0 != '*':\n",
    "            matrix[ref_base][read_base_0.upper()] += 1\n",
    "            q_matrix[ref_base][read_base_0.upper()] += qual\n",
    "        if len(read_base) > 1:\n",
    "            for i in range(2, len(read_base)):\n",
    "                if read_base[i].isalpha():\n",
    "                    n_indel = int(read_base[2:i])\n",
    "                    break\n",
    "            indel_dict[n_indel] += 1\n",
    "            if n_indel > 1 and read_base[i] == read_base[i+1] or ref_seq[pos] == ref_seq[pos-1] or ref_seq[pos] == ref_seq[pos+1]:\n",
    "                indel_homop += 1\n",
    "            for ind_base in read_base[i:]:\n",
    "                if read_base[1] == '-':\n",
    "                    matrix['-'][ind_base.upper()] += 1\n",
    "                else:\n",
    "                    matrix[ind_base.upper()]['-'] += 1"
   ]
  },
  {
   "cell_type": "code",
   "execution_count": 119,
   "metadata": {
    "scrolled": false
   },
   "outputs": [
    {
     "data": {
      "text/plain": [
       "<function matplotlib.pyplot.show(close=None, block=None)>"
      ]
     },
     "execution_count": 119,
     "metadata": {},
     "output_type": "execute_result"
    },
    {
     "data": {
      "image/png": "[encoded data removed]",
      "text/plain": [
       "<Figure size 1080x720 with 1 Axes>"
      ]
     },
     "metadata": {
      "needs_background": "light"
     },
     "output_type": "display_data"
    }
   ],
   "source": [
    "coverage_1000 = [np.mean(coverage[i:i+1000]) for i in range(0, len(coverage), 1000)]\n",
    "\n",
    "plt.figure(figsize=(15, 10))\n",
    "plt.bar([i for i in range(len(coverage_1000))], coverage_1000)\n",
    "plt.title('Среднее покрытие')\n",
    "plt.show"
   ]
  },
  {
   "cell_type": "code",
   "execution_count": 120,
   "metadata": {},
   "outputs": [
    {
     "name": "stdout",
     "output_type": "stream",
     "text": [
      "Среднее покрытие 35.16499624317428\n",
      "Доля покрытой области генома 0.9999963722784887\n"
     ]
    }
   ],
   "source": [
    "print('Среднее покрытие ' + str(np.mean(coverage)))\n",
    "print('Доля покрытой области генома ' + str(np.count_nonzero(coverage)/len(coverage)))"
   ]
  },
  {
   "cell_type": "code",
   "execution_count": 121,
   "metadata": {},
   "outputs": [
    {
     "data": {
      "text/html": [
       "<div>\n",
       "<style scoped>\n",
       "    .dataframe tbody tr th:only-of-type {\n",
       "        vertical-align: middle;\n",
       "    }\n",
       "\n",
       "    .dataframe tbody tr th {\n",
       "        vertical-align: top;\n",
       "    }\n",
       "\n",
       "    .dataframe thead th {\n",
       "        text-align: right;\n",
       "    }\n",
       "</style>\n",
       "<table border=\"1\" class=\"dataframe\">\n",
       "  <thead>\n",
       "    <tr style=\"text-align: right;\">\n",
       "      <th></th>\n",
       "      <th>Длина индела\\\\Количество инделов</th>\n",
       "    </tr>\n",
       "  </thead>\n",
       "  <tbody>\n",
       "    <tr>\n",
       "      <th>1</th>\n",
       "      <td>373161</td>\n",
       "    </tr>\n",
       "    <tr>\n",
       "      <th>2</th>\n",
       "      <td>10614</td>\n",
       "    </tr>\n",
       "    <tr>\n",
       "      <th>10</th>\n",
       "      <td>13</td>\n",
       "    </tr>\n",
       "    <tr>\n",
       "      <th>3</th>\n",
       "      <td>795</td>\n",
       "    </tr>\n",
       "    <tr>\n",
       "      <th>4</th>\n",
       "      <td>156</td>\n",
       "    </tr>\n",
       "    <tr>\n",
       "      <th>15</th>\n",
       "      <td>3</td>\n",
       "    </tr>\n",
       "    <tr>\n",
       "      <th>5</th>\n",
       "      <td>62</td>\n",
       "    </tr>\n",
       "    <tr>\n",
       "      <th>6</th>\n",
       "      <td>41</td>\n",
       "    </tr>\n",
       "    <tr>\n",
       "      <th>9</th>\n",
       "      <td>19</td>\n",
       "    </tr>\n",
       "    <tr>\n",
       "      <th>17</th>\n",
       "      <td>4</td>\n",
       "    </tr>\n",
       "    <tr>\n",
       "      <th>20</th>\n",
       "      <td>1</td>\n",
       "    </tr>\n",
       "    <tr>\n",
       "      <th>8</th>\n",
       "      <td>19</td>\n",
       "    </tr>\n",
       "    <tr>\n",
       "      <th>7</th>\n",
       "      <td>45</td>\n",
       "    </tr>\n",
       "    <tr>\n",
       "      <th>12</th>\n",
       "      <td>8</td>\n",
       "    </tr>\n",
       "    <tr>\n",
       "      <th>14</th>\n",
       "      <td>8</td>\n",
       "    </tr>\n",
       "    <tr>\n",
       "      <th>11</th>\n",
       "      <td>11</td>\n",
       "    </tr>\n",
       "    <tr>\n",
       "      <th>13</th>\n",
       "      <td>5</td>\n",
       "    </tr>\n",
       "    <tr>\n",
       "      <th>16</th>\n",
       "      <td>3</td>\n",
       "    </tr>\n",
       "    <tr>\n",
       "      <th>18</th>\n",
       "      <td>2</td>\n",
       "    </tr>\n",
       "  </tbody>\n",
       "</table>\n",
       "</div>"
      ],
      "text/plain": [
       "    Длина индела\\\\Количество инделов\n",
       "1                             373161\n",
       "2                              10614\n",
       "10                                13\n",
       "3                                795\n",
       "4                                156\n",
       "15                                 3\n",
       "5                                 62\n",
       "6                                 41\n",
       "9                                 19\n",
       "17                                 4\n",
       "20                                 1\n",
       "8                                 19\n",
       "7                                 45\n",
       "12                                 8\n",
       "14                                 8\n",
       "11                                11\n",
       "13                                 5\n",
       "16                                 3\n",
       "18                                 2"
      ]
     },
     "execution_count": 121,
     "metadata": {},
     "output_type": "execute_result"
    }
   ],
   "source": [
    "pd.DataFrame(indel_dict.values(), columns=['Длина индела\\\\\\Количество инделов'], index=(indel_dict.keys()))"
   ]
  },
  {
   "cell_type": "code",
   "execution_count": 122,
   "metadata": {},
   "outputs": [
    {
     "name": "stdout",
     "output_type": "stream",
     "text": [
      "Количество инделов рядом с гомополимерами  44.358261682728525  %\n"
     ]
    }
   ],
   "source": [
    "print('Количество инделов рядом с гомополимерами ', str(indel_homop*100/sum(indel_dict.values())), ' %' )"
   ]
  },
  {
   "cell_type": "markdown",
   "metadata": {},
   "source": [
    "### Матрица замен"
   ]
  },
  {
   "cell_type": "code",
   "execution_count": 123,
   "metadata": {},
   "outputs": [
    {
     "data": {
      "text/html": [
       "<div>\n",
       "<style scoped>\n",
       "    .dataframe tbody tr th:only-of-type {\n",
       "        vertical-align: middle;\n",
       "    }\n",
       "\n",
       "    .dataframe tbody tr th {\n",
       "        vertical-align: top;\n",
       "    }\n",
       "\n",
       "    .dataframe thead th {\n",
       "        text-align: right;\n",
       "    }\n",
       "</style>\n",
       "<table border=\"1\" class=\"dataframe\">\n",
       "  <thead>\n",
       "    <tr style=\"text-align: right;\">\n",
       "      <th></th>\n",
       "      <th>A</th>\n",
       "      <th>C</th>\n",
       "      <th>G</th>\n",
       "      <th>T</th>\n",
       "      <th>-</th>\n",
       "    </tr>\n",
       "  </thead>\n",
       "  <tbody>\n",
       "    <tr>\n",
       "      <th>A</th>\n",
       "      <td>0</td>\n",
       "      <td>3285</td>\n",
       "      <td>10013</td>\n",
       "      <td>3507</td>\n",
       "      <td>30081</td>\n",
       "    </tr>\n",
       "    <tr>\n",
       "      <th>C</th>\n",
       "      <td>2584</td>\n",
       "      <td>0</td>\n",
       "      <td>2198</td>\n",
       "      <td>18394</td>\n",
       "      <td>73218</td>\n",
       "    </tr>\n",
       "    <tr>\n",
       "      <th>G</th>\n",
       "      <td>18508</td>\n",
       "      <td>2187</td>\n",
       "      <td>0</td>\n",
       "      <td>2675</td>\n",
       "      <td>73568</td>\n",
       "    </tr>\n",
       "    <tr>\n",
       "      <th>T</th>\n",
       "      <td>3503</td>\n",
       "      <td>10079</td>\n",
       "      <td>3462</td>\n",
       "      <td>0</td>\n",
       "      <td>30781</td>\n",
       "    </tr>\n",
       "    <tr>\n",
       "      <th>-</th>\n",
       "      <td>61832</td>\n",
       "      <td>33778</td>\n",
       "      <td>33329</td>\n",
       "      <td>62746</td>\n",
       "      <td>0</td>\n",
       "    </tr>\n",
       "  </tbody>\n",
       "</table>\n",
       "</div>"
      ],
      "text/plain": [
       "       A      C      G      T      -\n",
       "A      0   3285  10013   3507  30081\n",
       "C   2584      0   2198  18394  73218\n",
       "G  18508   2187      0   2675  73568\n",
       "T   3503  10079   3462      0  30781\n",
       "-  61832  33778  33329  62746      0"
      ]
     },
     "execution_count": 123,
     "metadata": {},
     "output_type": "execute_result"
    }
   ],
   "source": [
    "matrix"
   ]
  },
  {
   "cell_type": "code",
   "execution_count": 124,
   "metadata": {},
   "outputs": [
    {
     "name": "stdout",
     "output_type": "stream",
     "text": [
      "Средний процент ошибок 0.11632219071304893 %\n"
     ]
    }
   ],
   "source": [
    "print('Средний процент ошибок ' + str(matrix.iloc[4:,:].values.sum()*100/sum(coverage)) + ' %') "
   ]
  },
  {
   "cell_type": "markdown",
   "metadata": {},
   "source": [
    "### Статистика качества нуклеотидов"
   ]
  },
  {
   "cell_type": "code",
   "execution_count": 125,
   "metadata": {
    "scrolled": false
   },
   "outputs": [
    {
     "data": {
      "text/html": [
       "<div>\n",
       "<style scoped>\n",
       "    .dataframe tbody tr th:only-of-type {\n",
       "        vertical-align: middle;\n",
       "    }\n",
       "\n",
       "    .dataframe tbody tr th {\n",
       "        vertical-align: top;\n",
       "    }\n",
       "\n",
       "    .dataframe thead th {\n",
       "        text-align: right;\n",
       "    }\n",
       "</style>\n",
       "<table border=\"1\" class=\"dataframe\">\n",
       "  <thead>\n",
       "    <tr style=\"text-align: right;\">\n",
       "      <th></th>\n",
       "      <th>A</th>\n",
       "      <th>C</th>\n",
       "      <th>G</th>\n",
       "      <th>T</th>\n",
       "      <th>-</th>\n",
       "    </tr>\n",
       "  </thead>\n",
       "  <tbody>\n",
       "    <tr>\n",
       "      <th>A</th>\n",
       "      <td>NaN</td>\n",
       "      <td>20.487367</td>\n",
       "      <td>25.588235</td>\n",
       "      <td>19.939549</td>\n",
       "      <td>2.643828</td>\n",
       "    </tr>\n",
       "    <tr>\n",
       "      <th>C</th>\n",
       "      <td>19.821207</td>\n",
       "      <td>NaN</td>\n",
       "      <td>18.558690</td>\n",
       "      <td>26.840437</td>\n",
       "      <td>3.490590</td>\n",
       "    </tr>\n",
       "    <tr>\n",
       "      <th>G</th>\n",
       "      <td>26.861519</td>\n",
       "      <td>18.760860</td>\n",
       "      <td>NaN</td>\n",
       "      <td>19.761121</td>\n",
       "      <td>3.441850</td>\n",
       "    </tr>\n",
       "    <tr>\n",
       "      <th>T</th>\n",
       "      <td>19.876677</td>\n",
       "      <td>25.460462</td>\n",
       "      <td>20.450029</td>\n",
       "      <td>NaN</td>\n",
       "      <td>2.535070</td>\n",
       "    </tr>\n",
       "    <tr>\n",
       "      <th>-</th>\n",
       "      <td>0.000000</td>\n",
       "      <td>0.000000</td>\n",
       "      <td>0.000000</td>\n",
       "      <td>0.000000</td>\n",
       "      <td>NaN</td>\n",
       "    </tr>\n",
       "  </tbody>\n",
       "</table>\n",
       "</div>"
      ],
      "text/plain": [
       "           A          C          G          T         -\n",
       "A        NaN  20.487367  25.588235  19.939549  2.643828\n",
       "C  19.821207        NaN  18.558690  26.840437  3.490590\n",
       "G  26.861519  18.760860        NaN  19.761121  3.441850\n",
       "T  19.876677  25.460462  20.450029        NaN  2.535070\n",
       "-   0.000000   0.000000   0.000000   0.000000       NaN"
      ]
     },
     "execution_count": 125,
     "metadata": {},
     "output_type": "execute_result"
    }
   ],
   "source": [
    "q_matrix/matrix"
   ]
  }
 ],
 "metadata": {
  "kernelspec": {
   "display_name": "Python 3",
   "language": "python",
   "name": "python3"
  },
  "language_info": {
   "codemirror_mode": {
    "name": "ipython",
    "version": 3
   },
   "file_extension": ".py",
   "mimetype": "text/x-python",
   "name": "python",
   "nbconvert_exporter": "python",
   "pygments_lexer": "ipython3",
   "version": "3.6.9"
  }
 },
 "nbformat": 4,
 "nbformat_minor": 4
}
