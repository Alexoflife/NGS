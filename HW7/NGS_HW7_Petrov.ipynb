{
 "cells": [
  {
   "cell_type": "markdown",
   "metadata": {},
   "source": [
    "## 1. Выравнивание ридов RNA-Seq\n"
   ]
  },
  {
   "cell_type": "markdown",
   "metadata": {},
   "source": [
    "`hisat2-build ref.fa ref` - индексирование\n",
    "\n",
    "`hisat2 -x ref -1 SRR453566_1.fastq -2 SRR453566_2.fastq -S alignment.sam` - выравнивание\n",
    "\n",
    "`!samtools view -S -b /content/drive/MyDrive/ngs_7/alignment.sam > alignment.bam`\n",
    "\n",
    "`samtools sort alignment.bam -o alignment_sorted.bam`\n",
    "\n",
    "`!samtools index alignment_sorted.bam`\n",
    "\n",
    "перевод в bam формат и сортировка"
   ]
  },
  {
   "cell_type": "markdown",
   "metadata": {},
   "source": [
    "## 2. Оценка количества экспрессирующихся генов"
   ]
  },
  {
   "cell_type": "code",
   "execution_count": 2,
   "metadata": {
    "id": "vFdZBDOZcyRR"
   },
   "outputs": [],
   "source": [
    "import numpy as np\n",
    "import pandas as pd\n",
    "import pysam\n",
    "from Bio import SeqIO\n",
    "import gffutils"
   ]
  },
  {
   "cell_type": "code",
   "execution_count": 25,
   "metadata": {
    "colab": {
     "base_uri": "https://localhost:8080/"
    },
    "id": "izHyuxXzihYA",
    "outputId": "3a385348-207d-4fe5-befb-87e536d33eba"
   },
   "outputs": [
    {
     "name": "stderr",
     "output_type": "stream",
     "text": [
      "/usr/local/lib/python3.7/site-packages/gffutils/create.py:734: UserWarning: It appears you have a gene feature in your GTF file. You may want to use the `disable_infer_genes=True` option to speed up database creation\n",
      "  \"It appears you have a gene feature in your GTF \"\n",
      "/usr/local/lib/python3.7/site-packages/gffutils/create.py:725: UserWarning: It appears you have a transcript feature in your GTF file. You may want to use the `disable_infer_transcripts=True` option to speed up database creation\n",
      "  \"It appears you have a transcript feature in your GTF \"\n"
     ]
    }
   ],
   "source": [
    "db = gffutils.create_db(\"/content/drive/MyDrive/ngs_7/genes.gtf\", dbfn='genes.db', merge_strategy=\"create_unique\")"
   ]
  },
  {
   "cell_type": "code",
   "execution_count": 3,
   "metadata": {
    "id": "N61_Ba-rdqTn"
   },
   "outputs": [],
   "source": [
    "alignment = pysam.AlignmentFile(\"/content/alignment_sorted.bam\", \"rb\")\n",
    "ref_seq = next(SeqIO.parse(\"/content/drive/MyDrive/ngs_7/ref.fa\", \"fasta\")).seq\n",
    "gen_db = gffutils.FeatureDB(\"genes.db\")"
   ]
  },
  {
   "cell_type": "code",
   "execution_count": 4,
   "metadata": {
    "id": "V1yegs76h5NW"
   },
   "outputs": [],
   "source": [
    "RPKM, coverage = [], []\n",
    "for gene in gen_db.features_of_type(featuretype=\"gene\"):\n",
    "  s, e = gene.start, gene.end\n",
    "  seq_id = gene.seqid\n",
    "  gen_reads = set()\n",
    "  gen_coverage = [0 for i in range(e-s)]\n",
    "  for col in alignment.pileup(seq_id, start=s-1, stop=e-1, truncate=True):\n",
    "    gen_reads.update(col.get_query_names())\n",
    "    gen_coverage[col.pos-s] = col.get_num_aligned()\n",
    "  coverage.append(np.count_nonzero(gen_coverage)/len(gen_coverage))\n",
    "  RPKM.append(len(gen_reads)/((e-s)/1000))"
   ]
  },
  {
   "cell_type": "code",
   "execution_count": 13,
   "metadata": {
    "id": "Cp7fd92JvsAm"
   },
   "outputs": [],
   "source": [
    "scaling_factor = sum(RPKM)/1000000\n",
    "TPM = [rpkm/scaling_factor for rpkm in RPKM]\n",
    "hit_1 = 0\n",
    "hit_2 = 0\n",
    "high_cov = 0.99 # далее рассматриваются гены с покрытием выше high_cov\n",
    "median_TPM = np.median(TPM)\n",
    "min_TPM = 5\n",
    "for c, t in zip(coverage, TPM):\n",
    "  if c > high_cov and t > min_TPM:\n",
    "    hit_1 += 1\n",
    "  if c > high_cov and t > median_TPM:\n",
    "    hit_2 += 1"
   ]
  },
  {
   "cell_type": "code",
   "execution_count": 9,
   "metadata": {
    "colab": {
     "base_uri": "https://localhost:8080/"
    },
    "id": "UQhIoqJD1Ftb",
    "outputId": "506c91eb-0757-4b17-9c95-cd76cc3dda74"
   },
   "outputs": [
    {
     "data": {
      "text/plain": [
       "35.6864780104737"
      ]
     },
     "execution_count": 9,
     "metadata": {
      "tags": []
     },
     "output_type": "execute_result"
    }
   ],
   "source": [
    "np.median(TPM)"
   ]
  },
  {
   "cell_type": "code",
   "execution_count": 22,
   "metadata": {
    "colab": {
     "base_uri": "https://localhost:8080/"
    },
    "id": "cDQDTfWH2UPh",
    "outputId": "ac510501-d0cc-40b8-96b1-75421eb0529c"
   },
   "outputs": [
    {
     "data": {
      "text/plain": [
       "6631"
      ]
     },
     "execution_count": 22,
     "metadata": {
      "tags": []
     },
     "output_type": "execute_result"
    }
   ],
   "source": [
    "hit_1"
   ]
  },
  {
   "cell_type": "code",
   "execution_count": 21,
   "metadata": {
    "colab": {
     "base_uri": "https://localhost:8080/"
    },
    "id": "LnE3zTn23OFW",
    "outputId": "145043a4-9e7b-482f-96ba-ec7f0518ba72"
   },
   "outputs": [
    {
     "data": {
      "text/plain": [
       "3552"
      ]
     },
     "execution_count": 21,
     "metadata": {
      "tags": []
     },
     "output_type": "execute_result"
    }
   ],
   "source": [
    "hit_2"
   ]
  },
  {
   "cell_type": "markdown",
   "metadata": {},
   "source": [
    "Медианное значение TPM около 36. \n",
    "\n",
    "3552 гена экспрессируются с уровнем экспресии выше 36.\n",
    "\n",
    "Значение TPM, равное 5, выбрано в качестве отметки для генов с низкой экспрессией. Количество генов с TPM больше 5 составляет 6631, или около 93% от общего числа генов."
   ]
  },
  {
   "cell_type": "markdown",
   "metadata": {},
   "source": [
    "## 3. Сборка de novo"
   ]
  },
  {
   "cell_type": "markdown",
   "metadata": {},
   "source": [
    "`/content/SPAdes-3.15.2-Linux/bin/rnaspades.py -1 SRR453566_1.fastq -2 SRR453566_2.fastq -o rna_res`"
   ]
  },
  {
   "cell_type": "markdown",
   "metadata": {},
   "source": [
    "`./rnaQUAST-2.2.0/rnaQUAST.py -r drive/MyDrive/ngs_7/ref.fa --gtf drive/MyDrive/ngs_7/genes.gtf -c rna_res/transcripts.fasta -o rnaQ_res`\n",
    "\n",
    "Выдаёт ERROR! gmap_build failed! Выдаёт ошибку как для rnaquast, установленного через conda, так и вручную. Видимо, какая-то проблема с версией gmap."
   ]
  }
 ],
 "metadata": {
  "colab": {
   "name": "Untitled1.ipynb",
   "provenance": []
  },
  "kernelspec": {
   "display_name": "Python 3",
   "language": "python",
   "name": "python3"
  },
  "language_info": {
   "codemirror_mode": {
    "name": "ipython",
    "version": 3
   },
   "file_extension": ".py",
   "mimetype": "text/x-python",
   "name": "python",
   "nbconvert_exporter": "python",
   "pygments_lexer": "ipython3",
   "version": "3.8.3"
  }
 },
 "nbformat": 4,
 "nbformat_minor": 1
}
