{
 "cells": [
  {
   "cell_type": "code",
   "execution_count": 2,
   "metadata": {},
   "outputs": [],
   "source": [
    "import pysam\n",
    "from Bio import SeqIO\n",
    "import numpy as np\n",
    "import pandas as pd\n",
    "import matplotlib.pyplot as plt\n",
    "from collections import Counter"
   ]
  },
  {
   "cell_type": "markdown",
   "metadata": {},
   "source": [
    "## TEST"
   ]
  },
  {
   "cell_type": "markdown",
   "metadata": {},
   "source": [
    "**bwa index MG1655-K12.first10K.fasta**"
   ]
  },
  {
   "cell_type": "markdown",
   "metadata": {},
   "source": [
    "**bwa mem MG1655-K12.first10K.fasta test_1.fastq test_2.fastq > alignment.sam**"
   ]
  },
  {
   "cell_type": "markdown",
   "metadata": {},
   "source": [
    "**samtools view -S -b alignment.sam > alignment.bam**"
   ]
  },
  {
   "cell_type": "markdown",
   "metadata": {},
   "source": [
    "56320 + 0 mapped (100.00% : N/A)\n"
   ]
  },
  {
   "cell_type": "markdown",
   "metadata": {},
   "source": [
    "## Dataset 1"
   ]
  },
  {
   "cell_type": "markdown",
   "metadata": {},
   "source": [
    "**bwa index ref.fasta**"
   ]
  },
  {
   "cell_type": "markdown",
   "metadata": {},
   "source": [
    "**bwa mem ref.fasta frag.R1.fastq frag.R2.fastq > alignment.sam**"
   ]
  },
  {
   "cell_type": "markdown",
   "metadata": {},
   "source": [
    "**samtools flagstat alignment.sam**"
   ]
  },
  {
   "cell_type": "markdown",
   "metadata": {},
   "source": [
    "3424657 + 0 mapped (99.77% : N/A)"
   ]
  },
  {
   "cell_type": "markdown",
   "metadata": {},
   "source": [
    "**samtools view -S -b alignment.sam > alignment.bam**"
   ]
  },
  {
   "cell_type": "markdown",
   "metadata": {},
   "source": [
    "**samtools sort alignment.bam -o alignment_sorted.bam**"
   ]
  },
  {
   "cell_type": "markdown",
   "metadata": {},
   "source": [
    "**samtools index alignment_sorted.bam**"
   ]
  },
  {
   "cell_type": "markdown",
   "metadata": {},
   "source": [
    "**samtools view alignment_sorted.sam | awk '$9>0' | cut -f 2 > inserts.txt**\n"
   ]
  },
  {
   "cell_type": "markdown",
   "metadata": {},
   "source": [
    "**samtools view -f66 alignment_sorted.bam  | cut -f9 | awk '{print sqrt($0^2)}' > insert-sizes.txt**"
   ]
  },
  {
   "cell_type": "code",
   "execution_count": 112,
   "metadata": {},
   "outputs": [],
   "source": [
    "Ref_path = '/media/data/NGS_2/dataset_1/ref.fasta'"
   ]
  },
  {
   "cell_type": "code",
   "execution_count": 115,
   "metadata": {},
   "outputs": [],
   "source": [
    "bam_path = '/media/data/NGS_2/dataset_1/alignment_sorted.bam' "
   ]
  },
  {
   "cell_type": "code",
   "execution_count": 90,
   "metadata": {},
   "outputs": [],
   "source": [
    "inserts_path = '/media/data/NGS_2/dataset_1/insert-sizes.txt'"
   ]
  },
  {
   "cell_type": "code",
   "execution_count": 126,
   "metadata": {},
   "outputs": [],
   "source": [
    "samfile = pysam.AlignmentFile(bam_path, 'rb')\n",
    "genome = next(SeqIO.parse(Ref_path, 'fasta')).seq"
   ]
  },
  {
   "cell_type": "code",
   "execution_count": 91,
   "metadata": {},
   "outputs": [],
   "source": [
    "inserts = []\n",
    "with open(inserts_path, 'r') as input_file:\n",
    "    for line in input_file:\n",
    "        if line[0].isdigit():\n",
    "            inserts.append(int(line[:line.find('\\n')]))\n",
    "            \n",
    "inserts = np.asarray(inserts)"
   ]
  },
  {
   "cell_type": "code",
   "execution_count": 109,
   "metadata": {},
   "outputs": [],
   "source": [
    "insert_count = Counter(inserts)\n",
    "inserts_good = []\n",
    "for ins_size in inserts:\n",
    "    if insert_count[ins_size] > 10:\n",
    "        inserts_good.append(ins_size)"
   ]
  },
  {
   "cell_type": "code",
   "execution_count": 110,
   "metadata": {},
   "outputs": [
    {
     "data": {
      "text/plain": [
       "(269.4202406507043, 63.99606692840991, array([183., 420.]))"
      ]
     },
     "execution_count": 110,
     "metadata": {},
     "output_type": "execute_result"
    }
   ],
   "source": [
    "mean = np.mean(inserts_good)\n",
    "std = np.std(inserts_good)\n",
    "quantile = np.quantile(inserts_good, [0.05, 0.975])\n",
    "\n",
    "mean, std, quantile"
   ]
  },
  {
   "cell_type": "code",
   "execution_count": 111,
   "metadata": {
    "scrolled": false
   },
   "outputs": [
    {
     "data": {
      "text/plain": [
       "<function matplotlib.pyplot.show(close=None, block=None)>"
      ]
     },
     "execution_count": 111,
     "metadata": {},
     "output_type": "execute_result"
    },
    {
     "data": {
      "image/png": "[encoded data removed]",
      "text/plain": [
       "<Figure size 1080x720 with 1 Axes>"
      ]
     },
     "metadata": {
      "needs_background": "light"
     },
     "output_type": "display_data"
    }
   ],
   "source": [
    "plt.figure(figsize=(15, 10))\n",
    "plt.hist(inserts, range(100, 500))\n",
    "plt.title('Insert size')\n",
    "plt.show"
   ]
  },
  {
   "cell_type": "markdown",
   "metadata": {},
   "source": [
    "## Dataset 2"
   ]
  },
  {
   "cell_type": "code",
   "execution_count": null,
   "metadata": {},
   "outputs": [],
   "source": []
  }
 ],
 "metadata": {
  "kernelspec": {
   "display_name": "Python 3",
   "language": "python",
   "name": "python3"
  },
  "language_info": {
   "codemirror_mode": {
    "name": "ipython",
    "version": 3
   },
   "file_extension": ".py",
   "mimetype": "text/x-python",
   "name": "python",
   "nbconvert_exporter": "python",
   "pygments_lexer": "ipython3",
   "version": "3.6.9"
  }
 },
 "nbformat": 4,
 "nbformat_minor": 4
}
