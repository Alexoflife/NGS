{
 "cells": [
  {
   "cell_type": "code",
   "execution_count": 1,
   "metadata": {},
   "outputs": [],
   "source": [
    "import pysam\n",
    "from Bio import SeqIO\n",
    "import numpy as np\n",
    "import pandas as pd\n",
    "import matplotlib.pyplot as plt\n",
    "from collections import Counter\n",
    "from tqdm import tqdm"
   ]
  },
  {
   "cell_type": "code",
   "execution_count": 34,
   "metadata": {},
   "outputs": [],
   "source": [
    "def get_error_matrix(bam_path, bam_c_path, ref_path, contig='gi|49175990|ref|NC_000913.2|'):\n",
    "    matrix = np.zeros((2, 3), dtype=np.int64)\n",
    "    bam = pysam.AlignmentFile(bam_path, 'rb')\n",
    "    bam_c = pysam.AlignmentFile(bam_c_path, 'rb')\n",
    "    pup = bam.pileup(contig)\n",
    "    pup_c = bam_c.pileup(contig)\n",
    "    ref_seq = next(SeqIO.parse(ref_path, 'fasta')).seq\n",
    "    for c, c_corr in tqdm(zip(pup, pup_c)):\n",
    "        ref_base = ref_seq[c.reference_pos]\n",
    "        c_dict = dict(zip(c.get_query_names(), c.get_query_sequences()))\n",
    "        c_corr_dict = dict(zip(c_corr.get_query_names(), c_corr.get_query_sequences()))\n",
    "        for name, base in c_dict.items():\n",
    "            if base.upper() == ref_base: # Correct base in raw data\n",
    "                row = 1\n",
    "            else: # Error in raw data\n",
    "                row = 0\n",
    "            if name in c_corr_dict:\n",
    "                if c_corr_dict[name].upper() == 'N': # Base is absent in corrected reads\n",
    "                    column = 2\n",
    "                elif c_corr_dict[name].upper() == ref_base: # Correct base in corrected reads\n",
    "                    column = 1\n",
    "                else: # Error in corrected reads\n",
    "                    column = 0\n",
    "            else: # Base is absent in corrected reads\n",
    "                column = 2\n",
    "            matrix[row][column] += 1\n",
    "    return pd.DataFrame(matrix, index=['Error in raw data', 'Correct base in raw data'], columns=['Error in corrected reads', 'Correct base in corrected reads', 'Base is absent in corrected reads'])"
   ]
  },
  {
   "cell_type": "markdown",
   "metadata": {},
   "source": [
    "## e.coli 10k"
   ]
  },
  {
   "cell_type": "code",
   "execution_count": 7,
   "metadata": {},
   "outputs": [],
   "source": [
    "bam_path = '/media/data/NGS_4/e_10_sorted.bam'\n",
    "ref_path = '/media/data/NGS_4/MG1655-K12.first10K.fasta'"
   ]
  },
  {
   "cell_type": "markdown",
   "metadata": {},
   "source": [
    "_TRIMMOMATIC_"
   ]
  },
  {
   "cell_type": "markdown",
   "metadata": {},
   "source": [
    "`TrimmomaticPE ecoli_10K_err_1.fastq.gz ecoli_10K_err_2.fastq.gz e_10_1_trim.fastq e_10_1_un.fastq e_10_2_trim.fastq e_10_2_un.fastq LEADING:30 TRAILING:30 SLIDINGWINDOW:10:30  MINLEN:30`\n",
    "\n",
    "Input Read Pairs: 29639 Both Surviving: 24954 (84,19%) Forward Only Surviving: 2200 (7,42%) Reverse Only Surviving: 1649 (5,56%) Dropped: 836 (2,82%)\n"
   ]
  },
  {
   "cell_type": "code",
   "execution_count": 8,
   "metadata": {},
   "outputs": [],
   "source": [
    "bam_c_path = '/media/data/NGS_4/e_10_trim_sorted.bam'"
   ]
  },
  {
   "cell_type": "code",
   "execution_count": 36,
   "metadata": {},
   "outputs": [
    {
     "name": "stderr",
     "output_type": "stream",
     "text": [
      "10000it [00:11, 858.38it/s]\n"
     ]
    },
    {
     "data": {
      "text/html": [
       "<div>\n",
       "<style scoped>\n",
       "    .dataframe tbody tr th:only-of-type {\n",
       "        vertical-align: middle;\n",
       "    }\n",
       "\n",
       "    .dataframe tbody tr th {\n",
       "        vertical-align: top;\n",
       "    }\n",
       "\n",
       "    .dataframe thead th {\n",
       "        text-align: right;\n",
       "    }\n",
       "</style>\n",
       "<table border=\"1\" class=\"dataframe\">\n",
       "  <thead>\n",
       "    <tr style=\"text-align: right;\">\n",
       "      <th></th>\n",
       "      <th>Error in corrected reads</th>\n",
       "      <th>Correct base in corrected reads</th>\n",
       "      <th>Base is absent in corrected reads</th>\n",
       "    </tr>\n",
       "  </thead>\n",
       "  <tbody>\n",
       "    <tr>\n",
       "      <th>Error in raw data</th>\n",
       "      <td>2214</td>\n",
       "      <td>2</td>\n",
       "      <td>6227</td>\n",
       "    </tr>\n",
       "    <tr>\n",
       "      <th>Correct base in raw data</th>\n",
       "      <td>2</td>\n",
       "      <td>4042830</td>\n",
       "      <td>1184813</td>\n",
       "    </tr>\n",
       "  </tbody>\n",
       "</table>\n",
       "</div>"
      ],
      "text/plain": [
       "                          Error in corrected reads  \\\n",
       "Error in raw data                             2214   \n",
       "Correct base in raw data                         2   \n",
       "\n",
       "                          Correct base in corrected reads  \\\n",
       "Error in raw data                                       2   \n",
       "Correct base in raw data                          4042830   \n",
       "\n",
       "                          Base is absent in corrected reads  \n",
       "Error in raw data                                      6227  \n",
       "Correct base in raw data                            1184813  "
      ]
     },
     "execution_count": 36,
     "metadata": {},
     "output_type": "execute_result"
    }
   ],
   "source": [
    "get_error_matrix(bam_path, bam_c_path, ref_path)"
   ]
  },
  {
   "cell_type": "markdown",
   "metadata": {},
   "source": [
    "_Spades_"
   ]
  },
  {
   "cell_type": "markdown",
   "metadata": {},
   "source": [
    "`./spades.py -1 /media/data/NGS_4/ecoli_10K_err_1.fastq.gz -2 /media/data/NGS_4/ecoli_10K_err_2.fastq.gz --only-error-correction -o /media/data/NGS_4/e_10_corr/\n",
    "`"
   ]
  },
  {
   "cell_type": "code",
   "execution_count": 37,
   "metadata": {},
   "outputs": [],
   "source": [
    "bam_c_path = '/media/data/NGS_4/e_10_sorted_spades.bam'"
   ]
  },
  {
   "cell_type": "code",
   "execution_count": 38,
   "metadata": {},
   "outputs": [
    {
     "name": "stderr",
     "output_type": "stream",
     "text": [
      "10000it [00:12, 829.51it/s]\n"
     ]
    },
    {
     "data": {
      "text/html": [
       "<div>\n",
       "<style scoped>\n",
       "    .dataframe tbody tr th:only-of-type {\n",
       "        vertical-align: middle;\n",
       "    }\n",
       "\n",
       "    .dataframe tbody tr th {\n",
       "        vertical-align: top;\n",
       "    }\n",
       "\n",
       "    .dataframe thead th {\n",
       "        text-align: right;\n",
       "    }\n",
       "</style>\n",
       "<table border=\"1\" class=\"dataframe\">\n",
       "  <thead>\n",
       "    <tr style=\"text-align: right;\">\n",
       "      <th></th>\n",
       "      <th>Error in corrected reads</th>\n",
       "      <th>Correct base in corrected reads</th>\n",
       "      <th>Base is absent in corrected reads</th>\n",
       "    </tr>\n",
       "  </thead>\n",
       "  <tbody>\n",
       "    <tr>\n",
       "      <th>Error in raw data</th>\n",
       "      <td>1562</td>\n",
       "      <td>6175</td>\n",
       "      <td>706</td>\n",
       "    </tr>\n",
       "    <tr>\n",
       "      <th>Correct base in raw data</th>\n",
       "      <td>11</td>\n",
       "      <td>5168796</td>\n",
       "      <td>58838</td>\n",
       "    </tr>\n",
       "  </tbody>\n",
       "</table>\n",
       "</div>"
      ],
      "text/plain": [
       "                          Error in corrected reads  \\\n",
       "Error in raw data                             1562   \n",
       "Correct base in raw data                        11   \n",
       "\n",
       "                          Correct base in corrected reads  \\\n",
       "Error in raw data                                    6175   \n",
       "Correct base in raw data                          5168796   \n",
       "\n",
       "                          Base is absent in corrected reads  \n",
       "Error in raw data                                       706  \n",
       "Correct base in raw data                              58838  "
      ]
     },
     "execution_count": 38,
     "metadata": {},
     "output_type": "execute_result"
    }
   ],
   "source": [
    "get_error_matrix(bam_path, bam_c_path, ref_path)"
   ]
  },
  {
   "cell_type": "markdown",
   "metadata": {},
   "source": [
    "## e.coli 400k"
   ]
  },
  {
   "cell_type": "code",
   "execution_count": 41,
   "metadata": {},
   "outputs": [],
   "source": [
    "bam_path = '/media/data/NGS_4/e_400_sorted.bam'\n",
    "ref_path = '/media/data/NGS_4/MG1655-K12.first400K.fasta'"
   ]
  },
  {
   "cell_type": "markdown",
   "metadata": {},
   "source": [
    "_TRIMMOMATIC_"
   ]
  },
  {
   "cell_type": "markdown",
   "metadata": {},
   "source": [
    "Input Read Pairs: 1381602 Both Surviving: 1182531 (85,59%) Forward Only Surviving: 92495 (6,69%) Reverse Only Surviving: 68702 (4,97%) Dropped: 37874 (2,74%)"
   ]
  },
  {
   "cell_type": "code",
   "execution_count": 44,
   "metadata": {},
   "outputs": [],
   "source": [
    "bam_c_path = '/media/data/NGS_4/e_400_sorted_trim.bam'"
   ]
  },
  {
   "cell_type": "code",
   "execution_count": 45,
   "metadata": {},
   "outputs": [
    {
     "name": "stderr",
     "output_type": "stream",
     "text": [
      "400000it [08:13, 810.37it/s] \n"
     ]
    },
    {
     "data": {
      "text/html": [
       "<div>\n",
       "<style scoped>\n",
       "    .dataframe tbody tr th:only-of-type {\n",
       "        vertical-align: middle;\n",
       "    }\n",
       "\n",
       "    .dataframe tbody tr th {\n",
       "        vertical-align: top;\n",
       "    }\n",
       "\n",
       "    .dataframe thead th {\n",
       "        text-align: right;\n",
       "    }\n",
       "</style>\n",
       "<table border=\"1\" class=\"dataframe\">\n",
       "  <thead>\n",
       "    <tr style=\"text-align: right;\">\n",
       "      <th></th>\n",
       "      <th>Error in corrected reads</th>\n",
       "      <th>Correct base in corrected reads</th>\n",
       "      <th>Base is absent in corrected reads</th>\n",
       "    </tr>\n",
       "  </thead>\n",
       "  <tbody>\n",
       "    <tr>\n",
       "      <th>Error in raw data</th>\n",
       "      <td>160824</td>\n",
       "      <td>172</td>\n",
       "      <td>288286</td>\n",
       "    </tr>\n",
       "    <tr>\n",
       "      <th>Correct base in raw data</th>\n",
       "      <td>139</td>\n",
       "      <td>193570075</td>\n",
       "      <td>54986656</td>\n",
       "    </tr>\n",
       "  </tbody>\n",
       "</table>\n",
       "</div>"
      ],
      "text/plain": [
       "                          Error in corrected reads  \\\n",
       "Error in raw data                           160824   \n",
       "Correct base in raw data                       139   \n",
       "\n",
       "                          Correct base in corrected reads  \\\n",
       "Error in raw data                                     172   \n",
       "Correct base in raw data                        193570075   \n",
       "\n",
       "                          Base is absent in corrected reads  \n",
       "Error in raw data                                    288286  \n",
       "Correct base in raw data                           54986656  "
      ]
     },
     "execution_count": 45,
     "metadata": {},
     "output_type": "execute_result"
    }
   ],
   "source": [
    "get_error_matrix(bam_path, bam_c_path, ref_path)"
   ]
  },
  {
   "cell_type": "markdown",
   "metadata": {},
   "source": [
    "_Spades_"
   ]
  },
  {
   "cell_type": "markdown",
   "metadata": {},
   "source": [
    "`./spades.py -1 /media/data/NGS_4/ecoli_400K_err_1.fastq.gz -2 /media/data/NGS_4/ecoli_400K_err_2.fastq.gz --only-error-correction -o /media/data/NGS_4/e_400_corr/\n",
    "`"
   ]
  },
  {
   "cell_type": "code",
   "execution_count": 46,
   "metadata": {},
   "outputs": [],
   "source": [
    "bam_c_path = '/media/data/NGS_4/e_400_sorted_spades.bam'"
   ]
  },
  {
   "cell_type": "code",
   "execution_count": 47,
   "metadata": {},
   "outputs": [
    {
     "name": "stderr",
     "output_type": "stream",
     "text": [
      "400000it [08:49, 756.11it/s] \n"
     ]
    },
    {
     "data": {
      "text/html": [
       "<div>\n",
       "<style scoped>\n",
       "    .dataframe tbody tr th:only-of-type {\n",
       "        vertical-align: middle;\n",
       "    }\n",
       "\n",
       "    .dataframe tbody tr th {\n",
       "        vertical-align: top;\n",
       "    }\n",
       "\n",
       "    .dataframe thead th {\n",
       "        text-align: right;\n",
       "    }\n",
       "</style>\n",
       "<table border=\"1\" class=\"dataframe\">\n",
       "  <thead>\n",
       "    <tr style=\"text-align: right;\">\n",
       "      <th></th>\n",
       "      <th>Error in corrected reads</th>\n",
       "      <th>Correct base in corrected reads</th>\n",
       "      <th>Base is absent in corrected reads</th>\n",
       "    </tr>\n",
       "  </thead>\n",
       "  <tbody>\n",
       "    <tr>\n",
       "      <th>Error in raw data</th>\n",
       "      <td>146015</td>\n",
       "      <td>267551</td>\n",
       "      <td>35716</td>\n",
       "    </tr>\n",
       "    <tr>\n",
       "      <th>Correct base in raw data</th>\n",
       "      <td>331</td>\n",
       "      <td>244508576</td>\n",
       "      <td>4047963</td>\n",
       "    </tr>\n",
       "  </tbody>\n",
       "</table>\n",
       "</div>"
      ],
      "text/plain": [
       "                          Error in corrected reads  \\\n",
       "Error in raw data                           146015   \n",
       "Correct base in raw data                       331   \n",
       "\n",
       "                          Correct base in corrected reads  \\\n",
       "Error in raw data                                  267551   \n",
       "Correct base in raw data                        244508576   \n",
       "\n",
       "                          Base is absent in corrected reads  \n",
       "Error in raw data                                     35716  \n",
       "Correct base in raw data                            4047963  "
      ]
     },
     "execution_count": 47,
     "metadata": {},
     "output_type": "execute_result"
    }
   ],
   "source": [
    "get_error_matrix(bam_path, bam_c_path, ref_path)"
   ]
  }
 ],
 "metadata": {
  "kernelspec": {
   "display_name": "Python 3",
   "language": "python",
   "name": "python3"
  },
  "language_info": {
   "codemirror_mode": {
    "name": "ipython",
    "version": 3
   },
   "file_extension": ".py",
   "mimetype": "text/x-python",
   "name": "python",
   "nbconvert_exporter": "python",
   "pygments_lexer": "ipython3",
   "version": "3.6.9"
  }
 },
 "nbformat": 4,
 "nbformat_minor": 4
}
