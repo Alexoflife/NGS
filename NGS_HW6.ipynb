{
 "cells": [
  {
   "cell_type": "markdown",
   "metadata": {},
   "source": [
    "# 1. Сборка длинных ридов"
   ]
  },
  {
   "cell_type": "markdown",
   "metadata": {},
   "source": [
    "`TrimmomaticSE pacbio_10x.fq.gz pacbio_10x.trimmed.fq.gz MINLEN:50`\n",
    "\n",
    "Input Reads: 10367 Surviving: 10345 (99,79%) Dropped: 22 (0,21%)\n",
    "TrimmomaticSE: Completed successfully\n",
    "\n",
    "Отбросим совсем короткие риды с длиной меньше 50 bp."
   ]
  },
  {
   "cell_type": "markdown",
   "metadata": {},
   "source": [
    "`minimap2 -x ava-pb -t8 pacbio_10x.trimmed.fq.gz pacbio_10x.trimmed.fq.gz | gzip -1 > pacbio_10x.paf.gz`\n",
    "\n",
    "`miniasm -f pacbio_10x.fq.gz pacbio_10x.paf.gz > pacbio_10x/pacbio_10x.gfa`\n",
    "\n",
    "`awk '/^S/{print \">\"$2\"\\n\"$3}' pacbio_10x.gfa | fold > pacbio_10x.fa`"
   ]
  },
  {
   "cell_type": "markdown",
   "metadata": {},
   "source": [
    "Аналогично для остальных ридов pacbio.\n",
    "\n",
    "Для pacbio_80x не хватает памяти. С Canu и Flye также не проходит по памяти."
   ]
  },
  {
   "cell_type": "markdown",
   "metadata": {},
   "source": [
    "# 2. Сборка коротких ридов"
   ]
  },
  {
   "cell_type": "markdown",
   "metadata": {},
   "source": [
    "# 3. Гибридная сборка"
   ]
  },
  {
   "cell_type": "markdown",
   "metadata": {},
   "source": [
    "# 4. Сравнение сборок"
   ]
  }
 ],
 "metadata": {
  "kernelspec": {
   "display_name": "Python 3",
   "language": "python",
   "name": "python3"
  },
  "language_info": {
   "codemirror_mode": {
    "name": "ipython",
    "version": 3
   },
   "file_extension": ".py",
   "mimetype": "text/x-python",
   "name": "python",
   "nbconvert_exporter": "python",
   "pygments_lexer": "ipython3",
   "version": "3.6.9"
  }
 },
 "nbformat": 4,
 "nbformat_minor": 4
}
